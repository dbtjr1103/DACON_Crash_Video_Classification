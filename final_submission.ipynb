{
  "nbformat": 4,
  "nbformat_minor": 0,
  "metadata": {
    "colab": {
      "provenance": []
    },
    "kernelspec": {
      "name": "python3",
      "display_name": "Python 3"
    },
    "language_info": {
      "name": "python"
    }
  },
  "cells": [
    {
      "cell_type": "code",
      "source": [
        "import pandas as pd\n",
        "\n",
        "sub1 = pd.read_csv('final_crash_submit.csv')\n",
        "sub2 = pd.read_csv('final_ego_submit.csv')\n",
        "sub3 = pd.read_csv('final_wt.csv') \n",
        "\n",
        "sub = pd.DataFrame({'sample_id': sub1['sample_id']})\n",
        "\n",
        "for i, row in sub1.iterrows():\n",
        "    label1 = row['label']\n",
        "    label2 = sub2.loc[i, 'label']\n",
        "    label3 = sub3.loc[i, 'label']\n",
        "    if label1 == 0:\n",
        "        sub.loc[i, 'label'] = 0\n",
        "    elif label1 == 1 and label2 == 0 and label3 == 0:\n",
        "        sub.loc[i, 'label'] = 1\n",
        "    elif label1 == 1 and label2 == 0 and label3 == 1:\n",
        "        sub.loc[i, 'label'] = 2\n",
        "    elif label1 == 1 and label2 == 0 and label3 == 2:\n",
        "        sub.loc[i, 'label'] = 3\n",
        "    elif label1 == 1 and label2 == 0 and label3 == 3:\n",
        "        sub.loc[i, 'label'] = 4\n",
        "    elif label1 == 1 and label2 == 0 and label3 == 4:\n",
        "        sub.loc[i, 'label'] = 5\n",
        "    elif label1 == 1 and label2 == 0 and label3 == 5:\n",
        "        sub.loc[i, 'label'] = 6\n",
        "    elif label1 == 1 and label2 == 1 and label3 == 0:\n",
        "        sub.loc[i, 'label'] = 7\n",
        "    elif label1 == 1 and label2 == 1 and label3 == 1:\n",
        "        sub.loc[i, 'label'] = 8\n",
        "    elif label1 == 1 and label2 == 1 and label3 == 2:\n",
        "        sub.loc[i, 'label'] = 9\n",
        "    elif label1 == 1 and label2 == 1 and label3 == 3:\n",
        "        sub.loc[i, 'label'] = 10\n",
        "    elif label1 == 1 and label2 == 1 and label3 == 4:\n",
        "        sub.loc[i, 'label'] = 11\n",
        "    elif label1 == 1 and label2 == 1 and label3 == 5:\n",
        "        sub.loc[i, 'label'] = 12\n",
        "\n",
        "sub.to_csv('final_submission.csv', index=False)\n"
      ],
      "metadata": {
        "id": "KL1E856Of4B0"
      },
      "execution_count": 1,
      "outputs": []
    },
    {
      "cell_type": "code",
      "source": [],
      "metadata": {
        "id": "1xvQvnyJhvEu"
      },
      "execution_count": null,
      "outputs": []
    }
  ]
}